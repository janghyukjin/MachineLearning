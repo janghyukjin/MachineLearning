{
  "nbformat": 4,
  "nbformat_minor": 0,
  "metadata": {
    "colab": {
      "name": "Assignment05.ipynb",
      "provenance": [],
      "private_outputs": true,
      "authorship_tag": "ABX9TyOrw5orP9l3SDXpi3LXB7lI",
      "include_colab_link": true
    },
    "kernelspec": {
      "name": "python3",
      "display_name": "Python 3"
    },
    "accelerator": "GPU"
  },
  "cells": [
    {
      "cell_type": "markdown",
      "metadata": {
        "id": "view-in-github",
        "colab_type": "text"
      },
      "source": [
        "<a href=\"https://colab.research.google.com/github/janghyukjin/MachineLearning/blob/master/Assignment05.ipynb\" target=\"_parent\"><img src=\"https://colab.research.google.com/assets/colab-badge.svg\" alt=\"Open In Colab\"/></a>"
      ]
    },
    {
      "cell_type": "code",
      "metadata": {
        "id": "YtVeWzWpKRGf",
        "colab_type": "code",
        "colab": {}
      },
      "source": [
        "import numpy as np\n",
        "import matplotlib.pyplot as plt\n",
        "\n",
        "data    = np.genfromtxt(\"data.txt\", delimiter=',')\n",
        "\n",
        "x       = data[:, 0]\n",
        "y       = data[:, 1]\n",
        "label   = data[:, 2]\n",
        "\n",
        "x_label0    = x[label == 0]\n",
        "x_label1    = x[label == 1]\n",
        "\n",
        "y_label0    = y[label == 0]\n",
        "y_label1    = y[label == 1]\n",
        "\n",
        "plt.figure(figsize=(8, 8))\n",
        "#display energy values\n",
        "plt.plot(x_label0, y_label0,'bo')\n",
        "plt.plot(x_label1, y_label1,'ro')\n",
        "\n",
        "plt.show()\n"
      ],
      "execution_count": 0,
      "outputs": []
    },
    {
      "cell_type": "code",
      "metadata": {
        "id": "0AsY9uZHPTSi",
        "colab_type": "code",
        "colab": {}
      },
      "source": [
        "theta0, theta1, theta2 = 0, 0, 0\n",
        "theta0_arr = np.empty(0)\n",
        "theta1_arr = np.empty(0)\n",
        "theta2_arr = np.empty(0)\n",
        "m = len(x)\n",
        "alpha = 0.0008\n",
        "i=0\n",
        "\n",
        "#energy values\n",
        "j = np.empty(0)\n",
        "jx = np.empty(0)\n",
        "\n",
        "#objective function\n",
        "def objectivefunc(theta0,theta1,theta2): \n",
        "    z = theta0+theta1*x+theta2*y\n",
        "    sigma = 1/(1+np.exp(-1*z))\n",
        "\n",
        "    a = 1/(m)\n",
        "    b = np.sum((-1*label)*np.log10(sigma)-((1-label)*np.log10(1-sigma)))\n",
        "    j = (a)*(b)\n",
        "    return j\n"
      ],
      "execution_count": 0,
      "outputs": []
    },
    {
      "cell_type": "code",
      "metadata": {
        "id": "m2-uAXsCN9QA",
        "colab_type": "code",
        "colab": {}
      },
      "source": [
        "while True:\n",
        "  cost = objectivefunc(theta0,theta1,theta2)\n",
        "\n",
        "  theta0_arr = np.append(theta0_arr, theta0)\n",
        "  theta1_arr = np.append(theta1_arr, theta1)\n",
        "  theta2_arr = np.append(theta2_arr, theta2)\n",
        "\n",
        "  z = theta0+theta1*x+theta2*y\n",
        "  sigma = 1/(1+np.exp(-1*z))  \n",
        "  theta0 = theta0 - (alpha/m)*np.sum(sigma-label)\n",
        "  theta1 = theta1 - (alpha/m)*np.sum((sigma-label)*x)\n",
        "  theta2 = theta2 - (alpha/m)*np.sum((sigma-label)*y)\n",
        "\n",
        "  cost2 = objectivefunc(theta0,theta1,theta2)\n",
        "  #append energy values, model parameters\n",
        "  j = np.append(j, cost2)\n",
        "\n",
        "  #append i for x axis\n",
        "  jx = np.append(jx, i)\n",
        "  i+=1\n",
        "  if abs(cost-cost2)<0.00000005:\n",
        "    print(i)\n",
        "    print(cost)\n",
        "    break"
      ],
      "execution_count": 0,
      "outputs": []
    },
    {
      "cell_type": "code",
      "metadata": {
        "id": "1pyu8v12YfSQ",
        "colab_type": "code",
        "colab": {}
      },
      "source": [
        "#display output data\n",
        "plt.figure(figsize=(5, 5))\n",
        "plt.plot(jx, theta0_arr, 'r-')\n",
        "plt.plot(jx, theta1_arr, 'g-')\n",
        "plt.plot(jx, theta2_arr, 'b-')\n",
        "\n",
        "plt.show()"
      ],
      "execution_count": 0,
      "outputs": []
    },
    {
      "cell_type": "code",
      "metadata": {
        "id": "vF8hj2tqYor6",
        "colab_type": "code",
        "colab": {}
      },
      "source": [
        ""
      ],
      "execution_count": 0,
      "outputs": []
    },
    {
      "cell_type": "code",
      "metadata": {
        "id": "_A5OmD8bGwsM",
        "colab_type": "code",
        "colab": {}
      },
      "source": [
        ""
      ],
      "execution_count": 0,
      "outputs": []
    },
    {
      "cell_type": "code",
      "metadata": {
        "id": "Kgovmk3_YzRQ",
        "colab_type": "code",
        "colab": {}
      },
      "source": [
        ""
      ],
      "execution_count": 0,
      "outputs": []
    }
  ]
}