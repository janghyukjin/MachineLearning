{
  "nbformat": 4,
  "nbformat_minor": 0,
  "metadata": {
    "colab": {
      "name": "Assignment04.ipynb",
      "provenance": [],
      "private_outputs": true,
      "authorship_tag": "ABX9TyP9YI32kuyiFVB/IPGySqSZ",
      "include_colab_link": true
    },
    "kernelspec": {
      "name": "python3",
      "display_name": "Python 3"
    }
  },
  "cells": [
    {
      "cell_type": "markdown",
      "metadata": {
        "id": "view-in-github",
        "colab_type": "text"
      },
      "source": [
        "<a href=\"https://colab.research.google.com/github/janghyukjin/MachineLearning/blob/master/Assignment04.ipynb\" target=\"_parent\"><img src=\"https://colab.research.google.com/assets/colab-badge.svg\" alt=\"Open In Colab\"/></a>"
      ]
    },
    {
      "cell_type": "code",
      "metadata": {
        "id": "KdHDMq7wzI_r",
        "colab_type": "code",
        "colab": {}
      },
      "source": [
        "import csv\n",
        "import matplotlib.pyplot as plt\n",
        "import numpy as np\n",
        "from mpl_toolkits.mplot3d import Axes3D\n",
        "\n",
        "x = np.empty(0)\n",
        "y = np.empty(0)\n",
        "z = np.empty(0)\n",
        "h = np.empty(0)\n",
        "\n",
        "with open('data_train.csv', newline='') as myfile:\n",
        "    reader  = csv.reader(myfile, delimiter=',')\n",
        "    ct = 1 \n",
        "    for i in reader:\n",
        "        ct += 1\n",
        "        x = np.append(x, float(i[0]))\n",
        "        y = np.append(y, float(i[1]))\n",
        "        z = np.append(z, float(i[2]))\n",
        "        h = np.append(h, float(i[3]))\n",
        "\n",
        "#objective function\n",
        "def objectivefunc(theta0,theta1,theta2,theta3): \n",
        "    a = 1/(2*m)\n",
        "    b = np.sum((theta0+theta1*x+theta2*y+theta3*z-h)**2)\n",
        "    j = (a)*(b)\n",
        "    return j\n",
        "\n",
        "#objective function\n",
        "def objectivefunc2(theta0,theta1,theta2,theta3): \n",
        "    a = 1/(2*len(test_x))\n",
        "    b = np.sum((theta0+theta1*test_x+theta2*test_y+theta3*test_z-test_h)**2)\n",
        "    j = (a)*(b)\n",
        "    return j\n",
        "\n",
        "#theta0 = bias, theta1 = w\n",
        "theta0, theta1, theta2, theta3 = 0, 1, 1, 1\n",
        "i=0\n",
        "m = len(x)\n",
        "alpha = 0.00001\n",
        "\n",
        "#energy values\n",
        "j = np.empty(0)\n",
        "jx = np.empty(0)\n",
        "\n",
        "theta0_arr = np.empty(0)\n",
        "theta1_arr = np.empty(0)\n",
        "theta2_arr = np.empty(0)\n",
        "theta3_arr = np.empty(0)\n",
        "\n",
        "while True:\n",
        "  f = theta0+theta1*x+theta2*y+theta3*z\n",
        "  cost = objectivefunc(theta0,theta1,theta2,theta3)\n",
        "\n",
        "  theta0_arr = np.append(theta0_arr, theta0)\n",
        "  theta1_arr = np.append(theta1_arr, theta1)\n",
        "  theta2_arr = np.append(theta2_arr, theta2)\n",
        "  theta3_arr = np.append(theta3_arr, theta3)\n",
        "\n",
        "  theta0 = theta0 - (alpha/m)*np.sum(f-h)\n",
        "  theta1 = theta1 - (alpha/m)*np.sum((f-h)*x)\n",
        "  theta2 = theta2 - (alpha/m)*np.sum((f-h)*y)\n",
        "  theta3 = theta3 - (alpha/m)*np.sum((f-h)*z)\n",
        "\n",
        "  cost2 = objectivefunc(theta0,theta1,theta2,theta3)\n",
        "  #append energy values, model parameters\n",
        "  j = np.append(j, cost2)\n",
        "\n",
        "  #append i for x axis\n",
        "  jx = np.append(jx, i)\n",
        "  i+=1\n",
        "  if abs(cost-cost2)<0.000005:\n",
        "    print(cost)\n",
        "    break\n",
        "\n",
        "print(theta0_arr)\n",
        "\n"
      ],
      "execution_count": 0,
      "outputs": []
    },
    {
      "cell_type": "code",
      "metadata": {
        "id": "M3A8Af1OefwK",
        "colab_type": "code",
        "colab": {}
      },
      "source": [
        "#display output data\n",
        "plt.figure(figsize=(5, 5))\n",
        "plt.plot(jx, theta0_arr, 'k-')\n",
        "plt.plot(jx, theta1_arr, 'r-')\n",
        "plt.plot(jx, theta2_arr, 'g-')\n",
        "plt.plot(jx, theta3_arr, 'b-')\n",
        "\n",
        "plt.show()"
      ],
      "execution_count": 0,
      "outputs": []
    },
    {
      "cell_type": "code",
      "metadata": {
        "id": "ORBP2W3KfPii",
        "colab_type": "code",
        "colab": {}
      },
      "source": [
        "#display energy values\n",
        "print(jx)\n",
        "print(j)\n",
        "plt.plot(jx,j,'b-')\n",
        "\n",
        "plt.xlabel('x axis')\n",
        "plt.ylabel('y axis')\n",
        "plt.title('Training Data')\n",
        "\n",
        "\n",
        "plt.show()"
      ],
      "execution_count": 0,
      "outputs": []
    },
    {
      "cell_type": "code",
      "metadata": {
        "id": "xKd2nPncMnTX",
        "colab_type": "code",
        "colab": {}
      },
      "source": [
        "test_x = np.empty(0)\n",
        "test_y = np.empty(0)\n",
        "test_z = np.empty(0)\n",
        "test_h = np.empty(0)\n",
        "\n",
        "with open('data_test.csv', newline='') as myfile:\n",
        "    reader  = csv.reader(myfile, delimiter=',')\n",
        "    ct = 1 \n",
        "    for i in reader:\n",
        "        ct += 1\n",
        "        test_x = np.append(test_x, float(i[0]))\n",
        "        test_y = np.append(test_y, float(i[1]))\n",
        "        test_z = np.append(test_z, float(i[2]))\n",
        "        test_h = np.append(test_h, float(i[3]))\n",
        "\n",
        "test_cost = np.empty(0)\n",
        "n = len(theta0_arr)\n",
        "tx = np.empty(0)\n",
        "cnt = 0\n",
        "for i in range(n):\n",
        "  temp_cost = objectivefunc2(theta0_arr[i],theta1_arr[i],theta2_arr[i],theta3_arr[i])\n",
        "  test_cost = np.append(test_cost, temp_cost)\n",
        "  tx = np.append(tx, cnt)\n",
        "  cnt += 1\n",
        "\n",
        "plt.plot(tx,test_cost,'r-')\n",
        "\n",
        "plt.xlabel('x axis')\n",
        "plt.ylabel('y axis')\n",
        "plt.title('Test Data')\n",
        "\n",
        "\n",
        "plt.show()"
      ],
      "execution_count": 0,
      "outputs": []
    }
  ]
}