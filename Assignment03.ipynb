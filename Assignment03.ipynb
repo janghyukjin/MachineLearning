{
  "nbformat": 4,
  "nbformat_minor": 0,
  "metadata": {
    "colab": {
      "name": "Assignment03.ipynb",
      "provenance": [],
      "private_outputs": true,
      "authorship_tag": "ABX9TyNXEhZF/9OYVEp4mVIgwu7N",
      "include_colab_link": true
    },
    "kernelspec": {
      "name": "python3",
      "display_name": "Python 3"
    },
    "accelerator": "GPU"
  },
  "cells": [
    {
      "cell_type": "markdown",
      "metadata": {
        "id": "view-in-github",
        "colab_type": "text"
      },
      "source": [
        "<a href=\"https://colab.research.google.com/github/janghyukjin/MachineLearning/blob/master/Assignment03.ipynb\" target=\"_parent\"><img src=\"https://colab.research.google.com/assets/colab-badge.svg\" alt=\"Open In Colab\"/></a>"
      ]
    },
    {
      "cell_type": "code",
      "metadata": {
        "id": "RBsIBo0c8j7p",
        "colab_type": "code",
        "colab": {}
      },
      "source": [
        "import matplotlib.pyplot as plt\n",
        "import numpy as np\n",
        "from mpl_toolkits.mplot3d import Axes3D\n",
        "\n",
        "#objective function\n",
        "def objectivefunc(h,y,m): \n",
        "    a = 1/(2*m)\n",
        "    b = np.sum((h-y)**2)\n",
        "    j = (a)*(b)\n",
        "    return j\n",
        "\n",
        "#objective function for drawing surface\n",
        "def objectivefunction(theta0, theta1,iteration):\n",
        "    a = 1/(2*m)\n",
        "    return a*sum(((theta0 + theta1*x[i]-y[i])**2) for i in range(iteration)) \n",
        "\n",
        "#input data\n",
        "path = \"data.csv\"\n",
        "data = np.genfromtxt(path, delimiter=',')\n",
        "\n",
        "x = data[:, 0]\n",
        "y = data[:, 1]\n",
        "z = np.empty(0)\n",
        "\n",
        "#display input data\n",
        "plt.figure(figsize=(5, 5))\n",
        "plt.scatter(x, y, alpha=1, c='black')\n",
        "plt.show()\n"
      ],
      "execution_count": 0,
      "outputs": []
    },
    {
      "cell_type": "code",
      "metadata": {
        "colab_type": "code",
        "id": "-_Zc0oxjhYab",
        "colab": {}
      },
      "source": [
        "\n",
        "#theta0 = bias, theta1 = w\n",
        "bias, w = -30,-30\n",
        "i=0\n",
        "m = len(x)\n",
        "alpha = 0.00125\n",
        "\n",
        "#energy values\n",
        "j = np.empty(0)\n",
        "jx = np.empty(0)\n",
        "\n",
        "#model parameters\n",
        "theta = np.empty(0)\n",
        "theta2 = np.empty(0)\n",
        "\n",
        "while True:\n",
        "  h = bias + w*x\n",
        "  cost = objectivefunc(h,y,m)\n",
        "  bias = bias - (alpha/m)*np.sum(h-y)\n",
        "  w = w - (alpha/m)*np.sum((h-y)*x)\n",
        "  h = bias + w*x\n",
        "  cost2 = objectivefunc(h,y,m)\n",
        "  #append energy values, model parameters\n",
        "  j = np.append(j, cost2)\n",
        "  theta = np.append(theta, bias)\n",
        "  theta2 = np.append(theta2, w)\n",
        "  #append i for x axis\n",
        "  jx = np.append(jx, i)\n",
        "  i+=1\n",
        "  if cost==cost2:\n",
        "    print(cost)\n",
        "    break\n",
        "    \n",
        "#display output data\n",
        "plt.figure(figsize=(5, 5))\n",
        "plt.scatter(x, y, alpha=1, c='black')\n",
        "\n",
        "coef = np.polyfit(x,h,1)\n",
        "poly1d_fn = np.poly1d(coef) \n",
        "plt.plot(x,y, 'ko', x, poly1d_fn(x), '-r')\n",
        "\n",
        "plt.show()"
      ],
      "execution_count": 0,
      "outputs": []
    },
    {
      "cell_type": "code",
      "metadata": {
        "id": "FZfbaJhucsN-",
        "colab_type": "code",
        "colab": {}
      },
      "source": [
        ""
      ],
      "execution_count": 0,
      "outputs": []
    },
    {
      "cell_type": "code",
      "metadata": {
        "id": "8ysurAcSclPM",
        "colab_type": "code",
        "colab": {}
      },
      "source": [
        ""
      ],
      "execution_count": 0,
      "outputs": []
    }
  ]
}