{
  "nbformat": 4,
  "nbformat_minor": 0,
  "metadata": {
    "colab": {
      "name": "Assignment03.ipynb",
      "provenance": [],
      "private_outputs": true,
      "authorship_tag": "ABX9TyOu6EMdxQjFw9XrZGrH6/qQ",
      "include_colab_link": true
    },
    "kernelspec": {
      "name": "python3",
      "display_name": "Python 3"
    },
    "accelerator": "GPU"
  },
  "cells": [
    {
      "cell_type": "markdown",
      "metadata": {
        "id": "view-in-github",
        "colab_type": "text"
      },
      "source": [
        "<a href=\"https://colab.research.google.com/github/janghyukjin/MachineLearning/blob/master/Assignment03.ipynb\" target=\"_parent\"><img src=\"https://colab.research.google.com/assets/colab-badge.svg\" alt=\"Open In Colab\"/></a>"
      ]
    },
    {
      "cell_type": "code",
      "metadata": {
        "id": "RBsIBo0c8j7p",
        "colab_type": "code",
        "colab": {}
      },
      "source": [
        "import matplotlib.pyplot as plt\n",
        "import numpy as np\n",
        "from mpl_toolkits.mplot3d import Axes3D\n",
        "\n",
        "#objective function\n",
        "def objectivefunc(h,y,m): \n",
        "    a = 1/(2*m)\n",
        "    b = np.sum((h-y)**2)\n",
        "    j = (a)*(b)\n",
        "    return j\n",
        "\n",
        "#objective function for drawing surface\n",
        "def objectivefunction(theta0, theta1,iteration):\n",
        "    a = 1/(2*m)\n",
        "    return a*sum(((theta0 + theta1*x[i]-y[i])**2) for i in range(iteration)) \n",
        "\n",
        "#input data\n",
        "path = \"data.csv\"\n",
        "data = np.genfromtxt(path, delimiter=',')\n",
        "\n",
        "x = data[:, 0]\n",
        "y = data[:, 1]\n",
        "z = np.empty(0)\n",
        "\n",
        "#display input data\n",
        "plt.figure(figsize=(5, 5))\n",
        "plt.scatter(x, y, alpha=1, c='black')\n",
        "plt.show()\n"
      ],
      "execution_count": 0,
      "outputs": []
    },
    {
      "cell_type": "code",
      "metadata": {
        "colab_type": "code",
        "id": "-_Zc0oxjhYab",
        "colab": {}
      },
      "source": [
        ""
      ],
      "execution_count": 0,
      "outputs": []
    },
    {
      "cell_type": "code",
      "metadata": {
        "id": "FZfbaJhucsN-",
        "colab_type": "code",
        "colab": {}
      },
      "source": [
        ""
      ],
      "execution_count": 0,
      "outputs": []
    },
    {
      "cell_type": "code",
      "metadata": {
        "id": "8ysurAcSclPM",
        "colab_type": "code",
        "colab": {}
      },
      "source": [
        ""
      ],
      "execution_count": 0,
      "outputs": []
    }
  ]
}