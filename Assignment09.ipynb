{
  "nbformat": 4,
  "nbformat_minor": 0,
  "metadata": {
    "colab": {
      "name": "Assignment09.ipynb",
      "provenance": [],
      "private_outputs": true,
      "collapsed_sections": [],
      "include_colab_link": true
    },
    "kernelspec": {
      "name": "python3",
      "display_name": "Python 3"
    },
    "accelerator": "GPU"
  },
  "cells": [
    {
      "cell_type": "markdown",
      "metadata": {
        "id": "view-in-github",
        "colab_type": "text"
      },
      "source": [
        "<a href=\"https://colab.research.google.com/github/janghyukjin/MachineLearning/blob/master/Assignment09.ipynb\" target=\"_parent\"><img src=\"https://colab.research.google.com/assets/colab-badge.svg\" alt=\"Open In Colab\"/></a>"
      ]
    },
    {
      "cell_type": "code",
      "metadata": {
        "id": "EEmlapN_3gY_",
        "colab_type": "code",
        "colab": {}
      },
      "source": [
        "import matplotlib.pyplot as plt\n",
        "import numpy as np\n",
        "\n",
        "file_data   = \"mnist.csv\"\n",
        "handle_file = open(file_data, \"r\")\n",
        "data        = handle_file.readlines()\n",
        "handle_file.close()\n",
        "\n",
        "size_row    = 28    # height of the image\n",
        "size_col    = 28    # width of the image\n",
        "\n",
        "num_image   = len(data)\n",
        "count       = 0     # count for the number of images\n",
        "count2 = 0\n",
        "#\n",
        "# normalize the values of the input data to be [0, 1]\n",
        "#\n",
        "def normalize(data):\n",
        "\n",
        "    data_normalized = (data - min(data)) / (max(data) - min(data))\n",
        "\n",
        "    return(data_normalized)\n",
        "\n",
        "#\n",
        "# example of distance function between two vectors x and y\n",
        "#\n",
        "def distance(x, y):\n",
        "\n",
        "    d = (x - y) ** 2\n",
        "    s = np.sum(d)\n",
        "    # r = np.sqrt(s)\n",
        "\n",
        "    return(s)\n",
        "\n",
        "def sigmoid(x):\n",
        "    sigma = 1/(1+np.exp(-1*x))\n",
        "    return sigma\n",
        "#\n",
        "# make a matrix each column of which represents an images in a vector form\n",
        "#\n",
        "list_image  = np.empty((size_row * size_col, num_image), dtype=float)\n",
        "list_label  = np.empty(num_image, dtype=int)\n",
        "list_label2  = np.empty(4000, dtype=int)\n",
        "list_images = np.empty(0)\n",
        "list_images2 = np.empty(0)\n",
        "\n",
        "one_hot_encoding = np.eye(10)\n",
        "for line in data:\n",
        "    if count >= 6000:\n",
        "        line_data   = line.split(',')\n",
        "        label       = line_data[0]\n",
        "        im_vector   = np.asfarray(line_data[1:])\n",
        "        im_vector   = normalize(im_vector)\n",
        "        list_label2[count2] = label\n",
        "        list_image[:, count]    = im_vector\n",
        "        if count == 6000:\n",
        "            list_images2 = im_vector\n",
        "        else:\n",
        "            list_images2 = np.vstack([list_images2, im_vector])\n",
        "        count += 1\n",
        "        count2 += 1\n",
        "        continue\n",
        "    line_data   = line.split(',')\n",
        "    label       = line_data[0]\n",
        "    im_vector   = np.asfarray(line_data[1:])\n",
        "    im_vector   = normalize(im_vector)\n",
        "    list_label[count] = label\n",
        "    list_image[:, count]    = im_vector\n",
        "    if count == 0:\n",
        "        list_images = im_vector\n",
        "    else:\n",
        "        list_images = np.vstack([list_images, im_vector])\n",
        "    count += 1\n",
        "#\n",
        "# plot first 150 images out of 10,000 with their labels\n",
        "#\n",
        "u = np.random.normal(0,1,785*196).reshape((785,196))\n",
        "\n",
        "v = np.random.normal(0,1,197*49).reshape((197,49))\n",
        "w = np.random.normal(0,1,50*10).reshape((50,10))\n",
        "x = np.empty(0)\n",
        "y = np.empty(0)\n",
        "z = np.empty(0)\n",
        "h = np.empty(0)\n",
        "bias = np.ones((6000,1))\n",
        "test_bias = np.ones((4000,1))\n",
        "m = 6000\n",
        "test_m = 4000\n",
        "cost = 0\n",
        "test_cost = 0\n",
        "accuracy = 0\n",
        "test_accuracy = 0\n",
        "cost_list = np.empty(0)\n",
        "accuracy_list = np.empty(0)\n",
        "test_cost_list = np.empty(0)\n",
        "test_accuracy_list = np.empty(0)\n",
        "alpha = 0.1\n",
        "jx = np.empty(0)\n",
        "cnt = 0\n",
        "for s in range(1000):\n",
        "    if s%10 == 0:\n",
        "        print(s)\n",
        "    bias_x = np.hstack((bias, list_images))\n",
        "    y = bias_x.dot(u)\n",
        "    sig_y = sigmoid(y)\n",
        "    bias_y = np.hstack((bias, sig_y))\n",
        "    z = bias_y.dot(v)\n",
        "    sig_z = sigmoid(z)\n",
        "    bias_z = np.hstack((bias, sig_z))\n",
        "    h = bias_z.dot(w)\n",
        "    sig_h = sigmoid(h)\n",
        "    cost = 0\n",
        "    accuracy = 0\n",
        "\n",
        "    for i in range(6000):\n",
        "        cost += (1/m)*np.sum(-1*one_hot_encoding[list_label[i]]*np.log(sig_h[i]) - (1-one_hot_encoding[list_label[i]])*np.log(1-sig_h[i])) \n",
        "        \n",
        "    for i in range(6000):\n",
        "        maximum = np.max(sig_h[i])\n",
        "        for j in range(10):\n",
        "            if sig_h[i][j] == maximum:\n",
        "                if list_label[i] == j:\n",
        "                    accuracy += 1\n",
        "                    break\n",
        "    accuracy /= 6000\n",
        "    print(accuracy)\n",
        "    cost_list = np.append(cost_list, cost)\n",
        "    accuracy_list = np.append(accuracy_list, accuracy)   \n",
        "    delta_w = np.zeros((50,10))\n",
        "    delta_v = np.zeros((197,49))\n",
        "    delta_u = np.zeros((785,196))\n",
        "    for i in range(6000):\n",
        "        tmp_delta_w = sig_h[i] - one_hot_encoding[list_label[i]]\n",
        "        tmp_delta_v = ((np.array([tmp_delta_w])).dot(np.transpose(np.delete(w, (0), axis=0))))*np.array([(sig_z[i])*(1-sig_z[i])])\n",
        "        tmp_delta_u = ((tmp_delta_v).dot(np.transpose(np.delete(v, (0), axis=0))))*np.array([(sig_y[i])*(1-sig_y[i])]) \n",
        "        delta_w += np.transpose(np.array([bias_z[i]])).dot(np.array([tmp_delta_w]))\n",
        "        delta_v += np.transpose(np.array([bias_y[i]])).dot(tmp_delta_v)\n",
        "        delta_u += np.transpose(np.array([bias_x[i]])).dot(tmp_delta_u)  \n",
        "    delta_w /= 6000\n",
        "    delta_v /= 6000\n",
        "    delta_u /= 6000\n",
        "    w -= delta_w*alpha\n",
        "    v -= delta_v*alpha\n",
        "    u -= delta_u*alpha\n",
        "    cnt += 1\n",
        "    jx = np.append(jx, cnt)\n",
        "\n",
        "    #test start\n",
        "    test_bias_x = np.hstack((test_bias, list_images2))\n",
        "    test_y = test_bias_x.dot(u)\n",
        "    test_sig_y = sigmoid(test_y)\n",
        "    test_bias_y = np.hstack((test_bias, test_sig_y))\n",
        "    test_z = test_bias_y.dot(v)\n",
        "    test_sig_z = sigmoid(test_z)\n",
        "    test_bias_z = np.hstack((test_bias, test_sig_z))\n",
        "    test_h = test_bias_z.dot(w)\n",
        "    test_sig_h = sigmoid(test_h)\n",
        "    test_cost = 0\n",
        "    test_accuracy = 0\n",
        "\n",
        "    for i in range(4000):\n",
        "        test_cost += (1/test_m)*np.sum(-1*one_hot_encoding[list_label2[i]]*np.log(test_sig_h[i]) - (1-one_hot_encoding[list_label2[i]])*np.log(1-test_sig_h[i]))\n",
        "\n",
        "        if list_label2[i] == test_sig_h[i].argmax():\n",
        "            test_accuracy += 1\n",
        "    test_accuracy /= 4000\n",
        "    test_cost_list = np.append(test_cost_list, test_cost)\n",
        "    test_accuracy_list = np.append(test_accuracy_list, test_accuracy)   \n",
        "\n"
      ],
      "execution_count": 0,
      "outputs": []
    },
    {
      "cell_type": "code",
      "metadata": {
        "id": "loECx-KgHG4V",
        "colab_type": "code",
        "colab": {}
      },
      "source": [
        "correct_images = []\n",
        "correct_label = []\n",
        "incorrect_images = []\n",
        "incorrect_label = []\n",
        "correct_cnt = 0\n",
        "incorrect_cnt = 0\n",
        "for s in range(1):\n",
        "    test_bias_x = np.hstack((test_bias, list_images2))\n",
        "    test_y = test_bias_x.dot(u)\n",
        "    test_sig_y = sigmoid(test_y)\n",
        "    test_bias_y = np.hstack((test_bias, test_sig_y))\n",
        "    test_z = test_bias_y.dot(v)\n",
        "    test_sig_z = sigmoid(test_z)\n",
        "    test_bias_z = np.hstack((test_bias, test_sig_z))\n",
        "    test_h = test_bias_z.dot(w)\n",
        "    test_sig_h = sigmoid(test_h)\n",
        "    \n",
        "    for i in range(4000):\n",
        "        if list_label2[i] == test_sig_h[i].argmax():\n",
        "            if correct_cnt<10:\n",
        "                correct_cnt += 1\n",
        "                correct_label.append(list_label2[i])\n",
        "                correct_images.append(list_images2[i])\n",
        "        else:    \n",
        "            if incorrect_cnt < 10:\n",
        "                incorrect_cnt += 1\n",
        "                incorrect_label.append(test_sig_h[i].argmax())\n",
        "                incorrect_images.append(list_images2[i])"
      ],
      "execution_count": 0,
      "outputs": []
    },
    {
      "cell_type": "markdown",
      "metadata": {
        "id": "R2MboWKDgEpg",
        "colab_type": "text"
      },
      "source": [
        "**Plot the loss curve**"
      ]
    },
    {
      "cell_type": "code",
      "metadata": {
        "id": "YP3Crpk0azy_",
        "colab_type": "code",
        "colab": {}
      },
      "source": [
        ""
      ],
      "execution_count": 0,
      "outputs": []
    },
    {
      "cell_type": "markdown",
      "metadata": {
        "id": "bXQ8I7LTgAfo",
        "colab_type": "text"
      },
      "source": [
        "**Plot the accuracy curve**"
      ]
    },
    {
      "cell_type": "code",
      "metadata": {
        "id": "_apTyQpwHY3a",
        "colab_type": "code",
        "colab": {}
      },
      "source": [
        ""
      ],
      "execution_count": 0,
      "outputs": []
    },
    {
      "cell_type": "markdown",
      "metadata": {
        "id": "3FUUX8l7f5rj",
        "colab_type": "text"
      },
      "source": [
        "**Final training accuracy**"
      ]
    },
    {
      "cell_type": "code",
      "metadata": {
        "id": "Bsj9og2Qnwa6",
        "colab_type": "code",
        "colab": {}
      },
      "source": [
        ""
      ],
      "execution_count": 0,
      "outputs": []
    },
    {
      "cell_type": "markdown",
      "metadata": {
        "id": "y5RvjiQof1Wd",
        "colab_type": "text"
      },
      "source": [
        "**Final testing accuracy**"
      ]
    },
    {
      "cell_type": "code",
      "metadata": {
        "id": "eIyW4Y3v5xWd",
        "colab_type": "code",
        "colab": {}
      },
      "source": [
        ""
      ],
      "execution_count": 0,
      "outputs": []
    },
    {
      "cell_type": "markdown",
      "metadata": {
        "id": "S63SopLTfv-R",
        "colab_type": "text"
      },
      "source": [
        "**Present 10 correctly testing images**"
      ]
    },
    {
      "cell_type": "code",
      "metadata": {
        "id": "7Vb1EXgxcukp",
        "colab_type": "code",
        "colab": {}
      },
      "source": [
        ""
      ],
      "execution_count": 0,
      "outputs": []
    },
    {
      "cell_type": "markdown",
      "metadata": {
        "id": "pLuzY9WlflRC",
        "colab_type": "text"
      },
      "source": [
        "**Present 10 misclassified testing images**"
      ]
    },
    {
      "cell_type": "code",
      "metadata": {
        "id": "PKOCEWrndd57",
        "colab_type": "code",
        "colab": {}
      },
      "source": [
        ""
      ],
      "execution_count": 0,
      "outputs": []
    }
  ]
}