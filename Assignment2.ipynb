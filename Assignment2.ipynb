{
  "nbformat": 4,
  "nbformat_minor": 0,
  "metadata": {
    "colab": {
      "name": "Assignment2.ipynb",
      "provenance": [],
      "authorship_tag": "ABX9TyNHZDiC1rWorXUhjdl0DiYC",
      "include_colab_link": true
    },
    "kernelspec": {
      "name": "python3",
      "display_name": "Python 3"
    },
    "accelerator": "GPU"
  },
  "cells": [
    {
      "cell_type": "markdown",
      "metadata": {
        "id": "view-in-github",
        "colab_type": "text"
      },
      "source": [
        "<a href=\"https://colab.research.google.com/github/janghyukjin/MachineLearning/blob/master/Assignment2.ipynb\" target=\"_parent\"><img src=\"https://colab.research.google.com/assets/colab-badge.svg\" alt=\"Open In Colab\"/></a>"
      ]
    },
    {
      "cell_type": "code",
      "metadata": {
        "id": "ek-Oztt7DBGu",
        "colab_type": "code",
        "outputId": "073a4b7a-7b04-4245-ce29-39270509ec71",
        "colab": {
          "base_uri": "https://localhost:8080/",
          "height": 295
        }
      },
      "source": [
        "import numpy as np\n",
        "import matplotlib.pyplot as plt\n",
        "\n",
        "#objective function\n",
        "def objectivefunc(h,y,m): \n",
        "    a = 1/(2*m)\n",
        "    b = np.sum((h-y)**2)\n",
        "    j = (a)*(b)\n",
        "    return j\n",
        "\n",
        "#create random int x\n",
        "x = np.random.randint(1, 50, size=500)\n",
        "y1 = 2*x+5\n",
        "\n",
        "#normal distribution\n",
        "mean = 0.0\n",
        "sd = 2\n",
        "n = np.random.normal(mean, sd, size=500)\n",
        "y = y1+n\n",
        "\n",
        "#display input data\n",
        "coef = np.polyfit(x,y1,1)\n",
        "poly1d_fn = np.poly1d(coef) \n",
        "plt.plot(x,y, 'ko', x, poly1d_fn(x), '-b')\n",
        "\n",
        "plt.xlabel('x axis')\n",
        "plt.ylabel('y axis')\n",
        "plt.title('Input data')\n",
        "plt.xlim(0, 50)\n",
        "plt.ylim(0, 150)\n",
        "plt.show()"
      ],
      "execution_count": 1,
      "outputs": [
        {
          "output_type": "display_data",
          "data": {
            "image/png": "[encoded data removed]",
            "text/plain": [
              "<Figure size 432x288 with 1 Axes>"
            ]
          },
          "metadata": {
            "tags": []
          }
        }
      ]
    },
    {
      "cell_type": "code",
      "metadata": {
        "id": "Rqk8c0_zZq7N",
        "colab_type": "code",
        "colab": {
          "base_uri": "https://localhost:8080/",
          "height": 312
        },
        "outputId": "58d4b1d0-f6f4-4991-a8f9-fe558991176c"
      },
      "source": [
        "#theta0 = bias, theta1 = w\n",
        "bias, w = 0.0,0.0\n",
        "i=0\n",
        "m = len(x)\n",
        "alpha = 0.000125\n",
        "\n",
        "#energy values\n",
        "j = np.empty(0)\n",
        "jx = np.empty(0)\n",
        "\n",
        "#model parameters\n",
        "theta = np.empty(0)\n",
        "theta2 = np.empty(0)\n",
        "\n",
        "while True:\n",
        "  h = bias + w*x\n",
        "  cost = objectivefunc(h,y,m)\n",
        "  bias = bias - (alpha/m)*np.sum(h-y)\n",
        "  w = w - (alpha/m)*np.sum((h-y)*x)\n",
        "  h = bias + w*x\n",
        "  cost2 = objectivefunc(h,y,m)\n",
        "  #append energy values, model parameters\n",
        "  j = np.append(j, cost2)\n",
        "  theta = np.append(theta, bias)\n",
        "  theta2 = np.append(theta2, w)\n",
        "  #append i for x axis\n",
        "  jx = np.append(jx, i)\n",
        "  i+=1\n",
        "  if cost==cost2:\n",
        "    print(cost)\n",
        "    break\n",
        "\n",
        "#display output data\n",
        "coef = np.polyfit(x,h,1)\n",
        "poly1d_fn = np.poly1d(coef) \n",
        "plt.plot(x,y, 'ko', x, poly1d_fn(x), '-r')\n",
        "\n",
        "plt.xlabel('x axis')\n",
        "plt.ylabel('y axis')\n",
        "plt.title('output data')\n",
        "plt.xlim(0, 50)\n",
        "plt.ylim(0, 150)\n",
        "plt.show()"
      ],
      "execution_count": 2,
      "outputs": [
        {
          "output_type": "stream",
          "text": [
            "1.8772797297227872\n"
          ],
          "name": "stdout"
        },
        {
          "output_type": "display_data",
          "data": {
            "image/png": "[encoded data removed]",
            "text/plain": [
              "<Figure size 432x288 with 1 Axes>"
            ]
          },
          "metadata": {
            "tags": []
          }
        }
      ]
    },
    {
      "cell_type": "code",
      "metadata": {
        "id": "y36dE4LDV5ws",
        "colab_type": "code",
        "colab": {}
      },
      "source": [
        ""
      ],
      "execution_count": 0,
      "outputs": []
    },
    {
      "cell_type": "code",
      "metadata": {
        "id": "csMkj_ebZkEM",
        "colab_type": "code",
        "colab": {}
      },
      "source": [
        ""
      ],
      "execution_count": 0,
      "outputs": []
    }
  ]
}