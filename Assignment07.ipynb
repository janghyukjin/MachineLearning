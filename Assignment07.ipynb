{
  "nbformat": 4,
  "nbformat_minor": 0,
  "metadata": {
    "colab": {
      "name": "Assignment07.ipynb",
      "provenance": [],
      "private_outputs": true,
      "collapsed_sections": [],
      "include_colab_link": true
    },
    "kernelspec": {
      "name": "python3",
      "display_name": "Python 3"
    },
    "accelerator": "GPU"
  },
  "cells": [
    {
      "cell_type": "markdown",
      "metadata": {
        "id": "view-in-github",
        "colab_type": "text"
      },
      "source": [
        "<a href=\"https://colab.research.google.com/github/janghyukjin/MachineLearning/blob/master/Assignment07.ipynb\" target=\"_parent\"><img src=\"https://colab.research.google.com/assets/colab-badge.svg\" alt=\"Open In Colab\"/></a>"
      ]
    },
    {
      "cell_type": "code",
      "metadata": {
        "id": "wv5_qsNW06Fk",
        "colab_type": "code",
        "colab": {}
      },
      "source": [
        "import numpy as np\n",
        "from matplotlib import pyplot as plt\n",
        "import pandas as pd\n",
        "\n",
        "data = pd.read_csv(\"data-nonlinear.txt\", names=['x','y','label'])\n",
        "data1 = data[data['label'] == 1]\n",
        "dataX1 = data1['x']\n",
        "dataY1 = data1['y']\n",
        "x = data['x']\n",
        "y = data['y'] \n",
        "data0 = data[data['label'] == 0]\n",
        "dataX0 = data0['x']\n",
        "dataY0 = data0['y']\n",
        "label = data['label']\n",
        "datas = pd.DataFrame()\n",
        "for i in range(10):\n",
        "    for j in range(10):\n",
        "        if (i==0 and j ==0):\n",
        "          continue\n",
        "        name = str(i) + str(j)\n",
        "        datas[name] = x ** i * y ** j\n",
        "\n",
        "m = len(label)\n",
        "alpha = 0.001\n",
        "datas_array = np.array(datas)\n",
        "\n"
      ],
      "execution_count": 0,
      "outputs": []
    },
    {
      "cell_type": "code",
      "metadata": {
        "id": "G3nE-1VU0fbj",
        "colab_type": "code",
        "colab": {}
      },
      "source": [
        "cost_list = []\n",
        "accuracy_list = []\n",
        "result = []\n",
        "over_lamda = 0.001\n",
        "just_lamda = 0.01\n",
        "under_lamda = 1\n",
        "\n",
        "theta = np.zeros(99)\n",
        "theta_list = np.zeros((10,10)).tolist()\n",
        "cost = []\n",
        "accuracy = []\n",
        "theta0 = 0\n",
        "for i in range(1000):  \n",
        "    print(i)\n",
        "    sigma = np.array(1 / (1 + np.exp(-1*datas.dot(theta) + theta0)))\n",
        "    temp_cost1 = -(1/m)*np.sum(label*np.log(sigma) + (1-label)*np.log(1-sigma)) + over_lamda*(np.sum(theta**2)+theta0**2)\n",
        "\n",
        "    acc = 0\n",
        "    for i in range(len(sigma)):\n",
        "        if sigma[i] < 0.5:\n",
        "          if label[i] == 0:\n",
        "            acc += 1\n",
        "        if sigma[i] >= 0.5:\n",
        "          if label[i] == 1:\n",
        "            acc += 1\n",
        "    cost.append(temp_cost1)\n",
        "    accuracy.append(acc)   \n",
        "\n",
        "    theta0 = theta0 - alpha * np.sum((sigma - label) / m)\n",
        "    for i in range(1, len(theta)):\n",
        "        theta[i] = theta[i] - alpha * ((1/m)*np.sum((sigma - label) * datas_array[:,i]) + over_lamda * theta[i])\n",
        "cost_list.append(cost)\n",
        "accuracy_list.append(accuracy)\n",
        "print(accuracy_list)    \n",
        "X = np.linspace(-1,1,100)\n",
        "Y = np.linspace(-1,1,100)\n",
        "x_mesh, y_mesh = np.meshgrid(X, Y)    \n",
        "over_Z  = theta0\n",
        "for i in range(10):\n",
        "    for j in range(10):\n",
        "        if i == 0 and j == 0:\n",
        "            continue\n",
        "        over_Z += theta[i * 10 + j - 1] * (x_mesh ** i) * (y_mesh ** j)\n",
        "over_result = [x_mesh,y_mesh,over_Z]\n",
        "\n",
        "\n",
        "theta = np.zeros(99)\n",
        "theta_list = np.zeros((10,10)).tolist()\n",
        "cost = []\n",
        "accuracy = []\n",
        "theta0 = 0\n",
        "for i in range(1000): \n",
        "    print(i)\n",
        "    print(\"~\")\n",
        "    sigma = np.array(1 / (1 + np.exp(-1*datas.dot(theta) + theta0)))\n",
        "    temp_cost2 = - (1/m) * np.sum(label * np.log(sigma) + (1-label) * np.log(1-sigma)) + just_lamda * (theta0**2 + np.sum(theta**2))\n",
        "\n",
        "    acc = 0\n",
        "    for i in range(len(sigma)):\n",
        "        if sigma[i] < 0.5:\n",
        "          if label[i] == 0:\n",
        "            acc += 1\n",
        "        if sigma[i] >= 0.5:\n",
        "          if label[i] == 1:\n",
        "            acc += 1\n",
        "    acc /= len(label)\n",
        "    cost.append(temp_cost2)\n",
        "    accuracy.append(acc)   \n",
        "\n",
        "    theta0 = theta0 - alpha * np.sum((sigma - label) / m)\n",
        "    for i in range(1, len(theta)):\n",
        "        theta[i] = theta[i] - alpha * ((1/m)*np.sum((sigma - label) * datas_array[:,i]) + just_lamda * theta[i])\n",
        "\n",
        "cost_list.append(cost)\n",
        "accuracy_list.append(accuracy)\n",
        "X = np.linspace(-1,1,100)\n",
        "Y = np.linspace(-1,1,100)\n",
        "x_mesh, y_mesh = np.meshgrid(X, Y)    \n",
        "just_Z  = theta0\n",
        "for i in range(10):\n",
        "    for j in range(10):\n",
        "        if i == 0 and j == 0:\n",
        "            continue\n",
        "        just_Z += theta[i * 10 + j - 1] * (x_mesh ** i) * (y_mesh ** j)\n",
        "just_result = [x_mesh,y_mesh,just_Z]\n",
        "\n",
        "\n",
        "cost = []\n",
        "accuracy = []\n",
        "theta = np.zeros(99)\n",
        "theta_list = np.zeros((10,10)).tolist()\n",
        "theta0 = 0\n",
        "for i in range(1000): \n",
        "    print(i) \n",
        "    sigma = np.array(1 / (1 + np.exp(-1*datas.dot(theta) + theta0)))\n",
        "    temp_cost3 = - (1/m) * np.sum(label * np.log(sigma) + (1-label) * np.log(1-sigma)) + under_lamda * (theta0 ** 2 + np.sum(theta ** 2))\n",
        "        \n",
        "    acc = 0\n",
        "    for i in range(len(sigma)):\n",
        "        if sigma[i] < 0.5:\n",
        "          if label[i] == 0:\n",
        "            acc += 1\n",
        "        if sigma[i] >= 0.5:\n",
        "          if label[i] == 1:\n",
        "            acc += 1\n",
        "    acc /= len(label)\n",
        "    cost.append(temp_cost3)\n",
        "    accuracy.append(acc)   \n",
        "    \n",
        "\n",
        "    theta0 = theta0 - alpha * np.sum((sigma - label) / m)\n",
        "    for i in range(1, len(theta)):\n",
        "        theta[i] = theta[i] - alpha * ((1/m)*np.sum((sigma - label) * datas_array[:,i]) + under_lamda * theta[i])\n",
        "\n",
        "cost_list.append(cost)\n",
        "accuracy_list.append(accuracy)\n",
        "X = np.linspace(-1,1,100)\n",
        "Y = np.linspace(-1,1,100)\n",
        "x_mesh, y_mesh = np.meshgrid(X, Y)    \n",
        "under_Z  = theta0\n",
        "for i in range(10):\n",
        "    for j in range(10):\n",
        "        if i == 0 and j == 0:\n",
        "            continue\n",
        "        under_Z += theta[i * 10 + j - 1] * (x_mesh ** i) * (y_mesh ** j)\n",
        "under_result = [x_mesh,y_mesh,under_Z]\n",
        "\n"
      ],
      "execution_count": 0,
      "outputs": []
    },
    {
      "cell_type": "code",
      "metadata": {
        "id": "lp_dSk60zl_t",
        "colab_type": "code",
        "colab": {}
      },
      "source": [
        "#plot the training data\n",
        "plt.scatter(dataX0, dataY0, color ='b')\n",
        "plt.scatter(dataX1, dataY1, color ='r')\n",
        "plt.title('Training Data')\n",
        "plt.show()"
      ],
      "execution_count": 0,
      "outputs": []
    },
    {
      "cell_type": "code",
      "metadata": {
        "id": "9FIgXX_8zRwU",
        "colab_type": "code",
        "colab": {}
      },
      "source": [
        "#plot the training error\n",
        "m = len(cost_list[0])\n",
        "\n",
        "plt.plot([i for i in range(m)], cost_list[0], c = 'red')\n",
        "plt.plot([i for i in range(len(cost_list[1]))], cost_list[1], c = 'green')\n",
        "plt.plot([i for i in range(len(cost_list[2]))], cost_list[2], c = 'blue')\n",
        "\n",
        "plt.title('Training Error')\n",
        "plt.xlabel('time')\n",
        "plt.ylabel('value')\n",
        "plt.show()"
      ],
      "execution_count": 0,
      "outputs": []
    },
    {
      "cell_type": "code",
      "metadata": {
        "id": "0-wHoQ-mujjs",
        "colab_type": "code",
        "colab": {}
      },
      "source": [
        "#Display the values of the chosen regularization parameters\n",
        "print('\\033[31m' +'over-fitting : ' + str(over_lamda) + '\\033[0m') \n",
        "print('\\033[32m' +'just-right : '+ str(just_lamda) + '\\033[0m') \n",
        "print('\\033[34m' +'under-fitting : ' + str(under_lamda) + '\\033[0m')"
      ],
      "execution_count": 0,
      "outputs": []
    },
    {
      "cell_type": "code",
      "metadata": {
        "id": "JFNuLtN0hEI0",
        "colab_type": "code",
        "colab": {}
      },
      "source": [
        "#plot the training accuracy\n",
        "m = len(accuracy_list[0])\n",
        "\n",
        "plt.plot([i for i in range(m)], accuracy_list[0], c = 'red')\n",
        "plt.plot([i for i in range(m)], accuracy_list[1], c = 'green')\n",
        "plt.plot([i for i in range(m)], accuracy_list[2], c = 'blue')\n",
        "plt.title('Training Accuracy')\n",
        "plt.xlabel('time')\n",
        "plt.ylabel('accuracy')\n",
        "plt.show()"
      ],
      "execution_count": 0,
      "outputs": []
    },
    {
      "cell_type": "code",
      "metadata": {
        "id": "npWVVg7Wxmgg",
        "colab_type": "code",
        "colab": {}
      },
      "source": [
        ""
      ],
      "execution_count": 0,
      "outputs": []
    },
    {
      "cell_type": "code",
      "metadata": {
        "id": "d7_Xlzi3Jvxr",
        "colab_type": "code",
        "colab": {}
      },
      "source": [
        ""
      ],
      "execution_count": 0,
      "outputs": []
    }
  ]
}