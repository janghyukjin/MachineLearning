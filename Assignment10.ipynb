{
  "nbformat": 4,
  "nbformat_minor": 0,
  "metadata": {
    "colab": {
      "name": "Assignment10.ipynb",
      "provenance": [],
      "collapsed_sections": [],
      "authorship_tag": "ABX9TyPhZPDnYo3zfi7vqHmtzjPp",
      "include_colab_link": true
    },
    "kernelspec": {
      "name": "python3",
      "display_name": "Python 3"
    }
  },
  "cells": [
    {
      "cell_type": "markdown",
      "metadata": {
        "id": "view-in-github",
        "colab_type": "text"
      },
      "source": [
        "<a href=\"https://colab.research.google.com/github/janghyukjin/MachineLearning/blob/master/Assignment10.ipynb\" target=\"_parent\"><img src=\"https://colab.research.google.com/assets/colab-badge.svg\" alt=\"Open In Colab\"/></a>"
      ]
    },
    {
      "cell_type": "code",
      "metadata": {
        "id": "27zIJGJxduHW",
        "colab_type": "code",
        "colab": {}
      },
      "source": [
        "import matplotlib.pyplot as plt\n",
        "import numpy as np\n",
        "\n",
        "file_data   = \"mnist.csv\"\n",
        "handle_file = open(file_data, \"r\")\n",
        "data        = handle_file.readlines()\n",
        "handle_file.close()\n",
        "size_row    = 28    # height of the image\n",
        "size_col    = 28    # width of the image\n",
        "num_image   = len(data)\n",
        "count       = 0     # count for the number of images\n",
        "#\n",
        "# normalize the values of the input data to be [0, 1]\n",
        "#\n",
        "def normalize(data):\n",
        "\n",
        "    data_normalized = (data - min(data)) / (max(data) - min(data))\n",
        "\n",
        "    return(data_normalized)\n",
        "#\n",
        "# example of distance function between two vectors x and y\n",
        "#\n",
        "def distance(x, y):\n",
        "    d = (x - y) ** 2\n",
        "    s = np.sum(d)\n",
        "    # r = np.sqrt(s)\n",
        "    return(s)\n",
        "\n",
        "list_image  = np.empty((size_row * size_col, num_image), dtype=float)\n",
        "list_label  = np.empty(num_image, dtype=int)\n",
        "list_images = np.empty((size_row * size_col, 1000), dtype=float) \n",
        "list_labels = np.empty((10, 1000), dtype=float)\n",
        "list_images2 = np.empty((size_row * size_col, 9000), dtype=float) \n",
        "list_labels2 = np.empty((10, 9000), dtype=float)\n",
        "cnt = 0\n",
        "for line in data:\n",
        "\n",
        "    line_data   = line.split(',')\n",
        "    label       = line_data[0]\n",
        "    im_vector   = np.asfarray(line_data[1:])\n",
        "    im_vector   = normalize(im_vector)\n",
        "\n",
        "    list_label[count]       = label\n",
        "    list_image[:, count]    = im_vector\n",
        "    if count<1000:\n",
        "      list_images[:, count] = im_vector\n",
        "    else:\n",
        "      list_images2[:, cnt] = im_vector\n",
        "      cnt += 1\n",
        "\n",
        "    count += 1\n",
        "\n",
        "def sigmoid(z):\n",
        "  return 1/(1+np.exp(-z))\n"
      ],
      "execution_count": 0,
      "outputs": []
    },
    {
      "cell_type": "code",
      "metadata": {
        "id": "irE7pi0PysgS",
        "colab_type": "code",
        "colab": {}
      },
      "source": [
        "u=np.random.randn(196,784) \n",
        "v=np.random.randn(49,196) \n",
        "w=np.random.randn(10,49) \n",
        "m = 1000\n",
        "test_m = 9000\n",
        "cost = 0\n",
        "test_cost = 0\n",
        "accuracy = 0\n",
        "test_accuracy = 0\n",
        "cost_list = np.empty(0)\n",
        "accuracy_list = np.empty(0)\n",
        "test_cost_list = np.empty(0)\n",
        "test_accuracy_list = np.empty(0)\n",
        "bias1 = np.zeros((196, 1))\n",
        "bias2 = np.zeros((49, 1)) \n",
        "bias3 = np.zeros((10, 1))\n",
        "lamda = 0.5\n",
        "one_hot_encoding = np.transpose(np.eye(10)[list_label])\n",
        "cnt = 0\n",
        "for i in range(10000): \n",
        "  if i<1000:\n",
        "    list_labels[:, i] = one_hot_encoding[:, i]\n",
        "  else:\n",
        "    list_labels2[:, cnt] = one_hot_encoding[:, i] \n",
        "    cnt += 1"
      ],
      "execution_count": 0,
      "outputs": []
    },
    {
      "cell_type": "code",
      "metadata": {
        "id": "-dvNIyggexvY",
        "colab_type": "code",
        "colab": {}
      },
      "source": [
        "alpha = 2\n",
        "count = 0 \n",
        "final_cnt = 0\n",
        "jx = np.empty(0)\n",
        "while(count<10000):\n",
        "  if count%10==0:\n",
        "    print(count)\n",
        "  jx = np.append(jx, count)\n",
        "  count += 1\n",
        "  \n",
        "  #propagation\n",
        "  bias_y = np.dot(u, list_images)\n",
        "  bias_y += bias1 \n",
        "  sig_y = sigmoid(bias_y)\n",
        "  bias_z = np.dot(v, sig_y)\n",
        "  bias_z += bias2 \n",
        "  sig_z = sigmoid(bias_z)\n",
        "  bias_h = np.dot(w, sig_z)\n",
        "  bias_h += bias3\n",
        "  sig_h = sigmoid(bias_h)\n",
        "  \n",
        "  #objective Function\n",
        "  cost = (-1/1000)*np.sum(list_labels*np.log(sig_h) + (1-list_labels)*np.log(1-sig_h)) + (lamda/(2*1000))*(np.sum(np.square(u)) + np.sum(np.square(v)) + np.sum(np.square(w)))\n",
        "  cost_list = np.append(cost_list,cost)\n",
        "  \n",
        "  #Calculate Accuracy\n",
        "  accuracy = 0\n",
        "  for i in range(1000):\n",
        "    if list_labels[:,i].argmax() == sig_h.argmax(axis=0)[i]:\n",
        "      accuracy += 1\n",
        "  accuracy/=1000\n",
        "  accuracy*=100 \n",
        "  accuracy_list = np.append(accuracy_list, accuracy)\n",
        "\n",
        "  #back propagation\n",
        "  delta_h = (sig_h-list_labels)\n",
        "  delta_z = np.dot(np.transpose(w),delta_h)*sig_z*(1-sig_z)\n",
        "  delta_y = np.dot(np.transpose(v),delta_z)*sig_y*(1-sig_y)\n",
        "\n",
        "  delta_bias3 = np.sum(delta_h, axis=1, keepdims=True)/1000\n",
        "  delta_bias2 = np.sum(delta_z, axis=1, keepdims=True)/1000\n",
        "  delta_bias1 = np.sum(delta_y, axis=1, keepdims=True)/1000\n",
        "\n",
        "  delta_w = np.dot(delta_h,np.transpose(sig_z))\n",
        "  delta_v = np.dot(delta_z,np.transpose(sig_y))\n",
        "  delta_u = np.dot(delta_y,np.transpose(list_images))\n",
        "  delta_w/=1000\n",
        "  delta_v/=1000\n",
        "  delta_u/=1000\n",
        "  delta_w += (lamda/1000)*w\n",
        "  delta_v += (lamda/1000)*v\n",
        "  delta_u += (lamda/1000)*u\n",
        "\n",
        "  #update theta, bias\n",
        "  u -= alpha * delta_u \n",
        "  v -= alpha * delta_v \n",
        "  w -= alpha * delta_w \n",
        "  bias1 -= alpha * delta_bias1 \n",
        "  bias2 -= alpha * delta_bias2 \n",
        "  bias3 -= alpha * delta_bias3\n",
        "\n",
        "  #test images propagation\n",
        "  test_bias_y = np.dot(u, list_images2)\n",
        "  test_bias_y += bias1 \n",
        "  test_sig_y = sigmoid(test_bias_y)\n",
        "  test_bias_z = np.dot(v, test_sig_y)\n",
        "  test_bias_z += bias2 \n",
        "  test_sig_z = sigmoid(test_bias_z)\n",
        "  test_bias_h = np.dot(w, test_sig_z)\n",
        "  test_bias_h += bias3\n",
        "  test_sig_h = sigmoid(test_bias_h)\n",
        "  #test images objective function\n",
        "  test_cost = (-1/9000)*np.sum(list_labels2*np.log(test_sig_h) + (1-list_labels2)*np.log(1-test_sig_h)) + (lamda/(2*9000))*(np.sum(np.square(u)) + np.sum(np.square(v)) + np.sum(np.square(w)))\n",
        "  test_cost_list = np.append(test_cost_list,test_cost)\n",
        "  #test images accuracy\n",
        "  test_accuracy = 0\n",
        "  for i in range(9000):\n",
        "    if list_labels2[:,i].argmax() == test_sig_h.argmax(axis=0)[i]:\n",
        "      test_accuracy += 1\n",
        "  test_accuracy/=9000\n",
        "  test_accuracy*=100 \n",
        "  print(test_accuracy)\n",
        "  test_accuracy_list = np.append(test_accuracy_list, test_accuracy)\n",
        "  #change running rate for improving accuracy\n",
        "  if test_accuracy > 80: \n",
        "    alpha = 0.8\n",
        "  if test_accuracy > 88.5: \n",
        "    alpha = 0.5\n",
        "  if test_accuracy > 89: \n",
        "    final_cnt += 1\n",
        "  if final_cnt > 50:\n",
        "    break\n",
        "  if final_cnt>5:\n",
        "    if test_accuracy<89:\n",
        "      break"
      ],
      "execution_count": 0,
      "outputs": []
    },
    {
      "cell_type": "code",
      "metadata": {
        "id": "GBGiHhcEeIpJ",
        "colab_type": "code",
        "colab": {}
      },
      "source": [
        "#classified testing images\n",
        "correct_images = []\n",
        "correct_label = []\n",
        "incorrect_images = []\n",
        "incorrect_label = []\n",
        "correct_cnt = 0\n",
        "incorrect_cnt = 0\n",
        "for s in range(1):\n",
        "    test_bias_y = np.dot(u, list_images2)\n",
        "    test_bias_y += bias1 \n",
        "    test_sig_y = sigmoid(test_bias_y)\n",
        "    test_bias_z = np.dot(v, test_sig_y)\n",
        "    test_bias_z += bias2 \n",
        "    test_sig_z = sigmoid(test_bias_z)\n",
        "    test_bias_h = np.dot(w, test_sig_z)\n",
        "    test_bias_h += bias3\n",
        "    test_sig_h = sigmoid(test_bias_h)\n",
        "    \n",
        "    for i in range(9000):\n",
        "      if list_labels2[:,i].argmax() == test_sig_h.argmax(axis=0)[i]:\n",
        "          if correct_cnt<10:\n",
        "              correct_cnt += 1\n",
        "              correct_label.append(list_labels2[:,i].argmax())\n",
        "              correct_images.append(list_images2[:,i])\n",
        "      else:    \n",
        "          if incorrect_cnt < 10:\n",
        "              incorrect_cnt += 1\n",
        "              incorrect_label.append(test_sig_h.argmax(axis=0)[i])\n",
        "              incorrect_images.append(list_images2[:,i])"
      ],
      "execution_count": 0,
      "outputs": []
    },
    {
      "cell_type": "markdown",
      "metadata": {
        "id": "D5gduCpbs0vB",
        "colab_type": "text"
      },
      "source": [
        "\n",
        "# **Plot the loss curve**"
      ]
    },
    {
      "cell_type": "code",
      "metadata": {
        "id": "HtEaWd0Ce9zS",
        "colab_type": "code",
        "colab": {
          "base_uri": "https://localhost:8080/",
          "height": 311
        },
        "outputId": "8f7352d2-4d52-4b55-b7a1-4a3686338451"
      },
      "source": [
        "#display Training Error\n",
        "plt.plot(jx,cost_list,'b-', label='Training')\n",
        "#display Testing Error\n",
        "plt.plot(jx,test_cost_list,'r-', label='Testing')\n",
        "\n",
        "plt.xlabel('x axis')\n",
        "plt.ylabel('y axis')\n",
        "plt.title('Loss')"
      ],
      "execution_count": 25,
      "outputs": [
        {
          "output_type": "execute_result",
          "data": {
            "text/plain": [
              "Text(0.5, 1.0, 'Loss')"
            ]
          },
          "metadata": {
            "tags": []
          },
          "execution_count": 25
        },
        {
          "output_type": "display_data",
          "data": {
            "image/png": "[encoded data removed]",
            "text/plain": [
              "<Figure size 432x288 with 1 Axes>"
            ]
          },
          "metadata": {
            "tags": [],
            "needs_background": "light"
          }
        }
      ]
    },
    {
      "cell_type": "markdown",
      "metadata": {
        "id": "US8QoUYgtJKT",
        "colab_type": "text"
      },
      "source": [
        "# **Plot the accuracy curve**"
      ]
    },
    {
      "cell_type": "code",
      "metadata": {
        "id": "dr4W0q5vfQ4G",
        "colab_type": "code",
        "colab": {
          "base_uri": "https://localhost:8080/",
          "height": 311
        },
        "outputId": "f705876a-0b57-4c49-9bee-2473a370f212"
      },
      "source": [
        "#display Training accuracy\n",
        "plt.plot(jx,accuracy_list,'b-',label='Training_accuracy')\n",
        "#display Testing accuracy\n",
        "plt.plot(jx,test_accuracy_list,'r-',label='Testing_accuracy')\n",
        "\n",
        "plt.xlabel('x axis')\n",
        "plt.ylabel('y axis')\n",
        "plt.title('Accuracy')"
      ],
      "execution_count": 26,
      "outputs": [
        {
          "output_type": "execute_result",
          "data": {
            "text/plain": [
              "Text(0.5, 1.0, 'Accuracy')"
            ]
          },
          "metadata": {
            "tags": []
          },
          "execution_count": 26
        },
        {
          "output_type": "display_data",
          "data": {
            "image/png": "[encoded data removed]",
            "text/plain": [
              "<Figure size 432x288 with 1 Axes>"
            ]
          },
          "metadata": {
            "tags": [],
            "needs_background": "light"
          }
        }
      ]
    },
    {
      "cell_type": "markdown",
      "metadata": {
        "id": "IUIghA0jtbf9",
        "colab_type": "text"
      },
      "source": [
        "# **Plot the accuracy value**"
      ]
    },
    {
      "cell_type": "code",
      "metadata": {
        "id": "4kG56T_ljreF",
        "colab_type": "code",
        "colab": {
          "base_uri": "https://localhost:8080/",
          "height": 50
        },
        "outputId": "0154a260-7a0a-4eec-9a02-bbc68a077ae1"
      },
      "source": [
        "#final training accuracy\n",
        "print('final training accuracy : ', accuracy_list[-1],'%')\n",
        "#final testing accuracy\n",
        "print('final testing accuracy : ',test_accuracy_list[-1],'%')"
      ],
      "execution_count": 28,
      "outputs": [
        {
          "output_type": "stream",
          "text": [
            "final training accuracy :  100.0 %\n",
            "final testing accuracy :  89.03333333333333 %\n"
          ],
          "name": "stdout"
        }
      ]
    },
    {
      "cell_type": "markdown",
      "metadata": {
        "id": "_SI5feOptgfg",
        "colab_type": "text"
      },
      "source": [
        "# **Plot the classification example**"
      ]
    },
    {
      "cell_type": "markdown",
      "metadata": {
        "id": "ptoeondftp1a",
        "colab_type": "text"
      },
      "source": [
        "**Present 10 correctly testing images**"
      ]
    },
    {
      "cell_type": "code",
      "metadata": {
        "id": "GyZV9RpYfvU2",
        "colab_type": "code",
        "colab": {
          "base_uri": "https://localhost:8080/",
          "height": 227
        },
        "outputId": "045ae1f2-2b49-45ab-bd80-076d59c538cf"
      },
      "source": [
        "#present 10 correctly classified testing images\n",
        "for i in range(10):\n",
        "\n",
        "    label       = correct_label[i]\n",
        "    im_vector   = correct_images[i]\n",
        "    im_matrix   = im_vector.reshape((size_row, size_col))\n",
        "\n",
        "    plt.subplot(2, 5, i+1)\n",
        "    plt.title(label)\n",
        "    plt.imshow(im_matrix, cmap='Greys', interpolation='None')\n",
        "\n",
        "    frame   = plt.gca()\n",
        "    frame.axes.get_xaxis().set_visible(False)\n",
        "    frame.axes.get_yaxis().set_visible(False)"
      ],
      "execution_count": 29,
      "outputs": [
        {
          "output_type": "display_data",
          "data": {
            "image/png": "[encoded data removed]",
            "text/plain": [
              "<Figure size 432x288 with 10 Axes>"
            ]
          },
          "metadata": {
            "tags": [],
            "needs_background": "light"
          }
        }
      ]
    },
    {
      "cell_type": "markdown",
      "metadata": {
        "id": "kq9PC04_twwa",
        "colab_type": "text"
      },
      "source": [
        "**Present 10 misclassified testing images**"
      ]
    },
    {
      "cell_type": "code",
      "metadata": {
        "id": "XPaezbLUfv-j",
        "colab_type": "code",
        "colab": {
          "base_uri": "https://localhost:8080/",
          "height": 227
        },
        "outputId": "2b51496b-7aac-4392-d8e7-d1fb97af1645"
      },
      "source": [
        "#present 10 misclassified testing images\n",
        "for i in range(10):\n",
        "\n",
        "    label       = incorrect_label[i]\n",
        "    im_vector   = incorrect_images[i]\n",
        "    im_matrix   = im_vector.reshape((size_row, size_col))\n",
        "\n",
        "    plt.subplot(2, 5, i+1)\n",
        "    plt.title(label)\n",
        "    plt.imshow(im_matrix, cmap='Greys', interpolation='None')\n",
        "\n",
        "    frame   = plt.gca()\n",
        "    frame.axes.get_xaxis().set_visible(False)\n",
        "    frame.axes.get_yaxis().set_visible(False)"
      ],
      "execution_count": 30,
      "outputs": [
        {
          "output_type": "display_data",
          "data": {
            "image/png": "[encoded data removed]",
            "text/plain": [
              "<Figure size 432x288 with 10 Axes>"
            ]
          },
          "metadata": {
            "tags": [],
            "needs_background": "light"
          }
        }
      ]
    }
  ]
}