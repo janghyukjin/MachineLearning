{
  "nbformat": 4,
  "nbformat_minor": 0,
  "metadata": {
    "colab": {
      "name": "Assignment08.ipynb",
      "provenance": [],
      "collapsed_sections": [],
      "authorship_tag": "ABX9TyMKwuzNv3uoijNQ6acJ+RVi",
      "include_colab_link": true
    },
    "kernelspec": {
      "name": "python3",
      "display_name": "Python 3"
    }
  },
  "cells": [
    {
      "cell_type": "markdown",
      "metadata": {
        "id": "view-in-github",
        "colab_type": "text"
      },
      "source": [
        "<a href=\"https://colab.research.google.com/github/janghyukjin/MachineLearning/blob/master/Assignment08.ipynb\" target=\"_parent\"><img src=\"https://colab.research.google.com/assets/colab-badge.svg\" alt=\"Open In Colab\"/></a>"
      ]
    },
    {
      "cell_type": "code",
      "metadata": {
        "id": "fVkJoK4c4_xS",
        "colab_type": "code",
        "outputId": "1c9459e1-6131-43ce-d8b2-929ba47565f4",
        "colab": {
          "base_uri": "https://localhost:8080/",
          "height": 50
        }
      },
      "source": [
        "import matplotlib.pyplot as plt\n",
        "import numpy as np\n",
        "import pandas as pd\n",
        "\n",
        "def sigmoid(x):\n",
        "    sigma = 1/(1+np.exp(-1*x))\n",
        "    return sigma\n",
        "\n",
        "file_data   = \"mnist_test.csv\"\n",
        "handle_file = open(file_data, \"r\")\n",
        "data        = handle_file.readlines()\n",
        "handle_file.close()\n",
        "theta_list= np.random.normal(0,1,784)\n",
        "size_row    = 28    # height of the image\n",
        "size_col    = 28    # width of the image\n",
        "num_image   = len(data)\n",
        "count       = 0     # count for the number of images\n",
        "\n",
        "# make a matrix each column of which represents an images in a vector form \n",
        "list_image  = np.empty((size_row * size_col, num_image), dtype=float)\n",
        "list_label  = np.empty(num_image, dtype=int)\n",
        "datas = pd.DataFrame()\n",
        "weights = {}\n",
        "weight = np.array([])\n",
        "\n",
        "for line in data:\n",
        "    line_data   = line.split(',')\n",
        "    label       = line_data[0]\n",
        "    im_vector   = np.asfarray(line_data[1:])\n",
        "\n",
        "    if label in datas.columns:\n",
        "      datas[label] = datas[label].add(im_vector)\n",
        "      lists[int(label)] = np.vstack((lists[int(label)],im_vector))\n",
        "      weights[label] = np.append(weights[label], sigmoid(np.sum(im_vector.dot(theta_list))))\n",
        "    else:\n",
        "      datas[label] = im_vector\n",
        "      data_list = np.array([])\n",
        "      data_list = np.append(data_list, im_vector)\n",
        "      lists[int(label)] = data_list \n",
        "      weight = np.array([])\n",
        "      weight = np.append(weight,sigmoid(np.sum(im_vector.dot(theta_list))))\n",
        "      weights[label] = weight\n",
        "    list_label[count]       = label\n",
        "    list_image[:, count]    = im_vector    \n",
        "    count += 1\n",
        "\n",
        "for i in range(10):\n",
        "  lists[i]=np.mean(lists[i],axis=0)\n"
      ],
      "execution_count": 138,
      "outputs": [
        {
          "output_type": "stream",
          "text": [
            "/usr/local/lib/python3.6/dist-packages/ipykernel_launcher.py:6: RuntimeWarning: overflow encountered in exp\n",
            "  \n"
          ],
          "name": "stderr"
        }
      ]
    },
    {
      "cell_type": "code",
      "metadata": {
        "id": "0kSpsusBUKoX",
        "colab_type": "code",
        "colab": {
          "base_uri": "https://localhost:8080/",
          "height": 227
        },
        "outputId": "ac04cf38-488b-4b1b-e7be-f914689f8cc9"
      },
      "source": [
        "f1 = plt.figure(1)\n",
        "#print(len(list_label))\n",
        "for i in range(10):\n",
        "    label = i\n",
        "    im_vector = lists[i]\n",
        "    im_matrix   = im_vector.reshape((size_row, size_col))\n",
        "\n",
        "    plt.subplot(2, 5, i+1)\n",
        "    plt.title(label)\n",
        "    plt.imshow(im_matrix, cmap='Greys', interpolation='None')\n",
        "\n",
        "    frame   = plt.gca()\n",
        "    frame.axes.get_xaxis().set_visible(False)\n",
        "    frame.axes.get_yaxis().set_visible(False)\n",
        "\n",
        "plt.show()"
      ],
      "execution_count": 139,
      "outputs": [
        {
          "output_type": "display_data",
          "data": {
            "image/png": "[encoded data removed]",
            "text/plain": [
              "<Figure size 432x288 with 10 Axes>"
            ]
          },
          "metadata": {
            "tags": [],
            "needs_background": "light"
          }
        }
      ]
    },
    {
      "cell_type": "code",
      "metadata": {
        "id": "1OFfP3sfULe1",
        "colab_type": "code",
        "colab": {
          "base_uri": "https://localhost:8080/",
          "height": 180
        },
        "outputId": "23bd5281-82ef-488d-e7e0-9d84c060587f"
      },
      "source": [
        "for i in range(10): \n",
        "  avg = np.mean(weights[str(i)])\n",
        "  print(i,\" : \",avg)"
      ],
      "execution_count": 140,
      "outputs": [
        {
          "output_type": "stream",
          "text": [
            "0  :  0.6125216814004516\n",
            "1  :  0.303973212423957\n",
            "2  :  0.6047806896986243\n",
            "3  :  0.3510561993998633\n",
            "4  :  0.27559260614589737\n",
            "5  :  0.24684775695834546\n",
            "6  :  0.4780896908547426\n",
            "7  :  0.47291940419518375\n",
            "8  :  0.1653092151197676\n",
            "9  :  0.33979371830925204\n"
          ],
          "name": "stdout"
        }
      ]
    }
  ]
}